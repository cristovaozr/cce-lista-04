{
 "cells": [
  {
   "cell_type": "markdown",
   "metadata": {},
   "source": [
    "# Resolução da questão 4.16 da lista de exercícios 04\n",
    "\n",
    "<ins>Aluno</ins>: Cristóvão Zuppardo Rufino (<cristovao.rufino@ufpe.br>)"
   ]
  },
  {
   "cell_type": "code",
   "execution_count": 4,
   "metadata": {},
   "outputs": [
    {
     "name": "stdout",
     "output_type": "stream",
     "text": [
      "Galois Field:\n",
      "  name: GF(2^4)\n",
      "  characteristic: 2\n",
      "  degree: 4\n",
      "  order: 16\n",
      "  irreducible_poly: x^4 + x + 1\n",
      "  is_primitive_poly: True\n",
      "  primitive_element: x\n"
     ]
    }
   ],
   "source": [
    "import galois\n",
    "\n",
    "m = 4\n",
    "GF16 = galois.GF(2**m)\n",
    "print(GF16.properties)\n"
   ]
  },
  {
   "cell_type": "code",
   "execution_count": 5,
   "metadata": {},
   "outputs": [
    {
     "name": "stdout",
     "output_type": "stream",
     "text": [
      "Monômios mônicos:\n",
      "a**0 == x + 1\n",
      "a**1 == x + 2\n",
      "a**2 == x + 4\n",
      "a**3 == x + 8\n",
      "a**4 == x + 3\n",
      "a**5 == x + 6\n",
      "a**6 == x + 12\n",
      "a**7 == x + 11\n",
      "a**8 == x + 5\n",
      "a**9 == x + 10\n",
      "a**10 == x + 7\n",
      "a**11 == x + 14\n",
      "a**12 == x + 15\n",
      "a**13 == x + 13\n",
      "a**14 == x + 9\n"
     ]
    }
   ],
   "source": [
    "# Obtem o elemento primitivo\n",
    "a = GF16.primitive_element\n",
    "\n",
    "# Monta uma lista com todos os monômios\n",
    "polys = [galois.Poly.Degrees([1,0], coeffs=[1, a**i], field=GF16) for i in range(0,15)]\n",
    "\n",
    "print(\"Monômios mônicos:\")\n",
    "for i, p in enumerate(polys):\n",
    "    print(\"a**{}\".format(i), \"==\", p)"
   ]
  },
  {
   "cell_type": "code",
   "execution_count": 6,
   "metadata": {},
   "outputs": [
    {
     "name": "stdout",
     "output_type": "stream",
     "text": [
      "Lista de polinômios mínimos:\n",
      "ø_0 == x + 1\n",
      "ø_1 == x^4 + x + 1\n",
      "ø_3 == x^4 + x^3 + x^2 + x + 1\n",
      "ø_5 == x^2 + x + 1\n",
      "ø_7 == x^4 + x^3 + 1\n"
     ]
    }
   ],
   "source": [
    "# Imprimir os polinômios mínimos. Os coeficientes são obtidos como as classes ciclotômicas dos elementos\n",
    "# primitivos a\n",
    "# Então:\n",
    "# ø_é o polinômio mínimo de a**0\n",
    "# ø_1 é o polinômio mínimo de a e seus conjugados: a, a**2, a**4 e a**8\n",
    "# ø_3 é o polinômio mínimo de a**3 e seus conjugados: a**3, a**6, a**12 e a**9\n",
    "# ø_5 é o polinômio mínimo de a**5 e seus conjugados: a**5 e a**10\n",
    "# ø_7 é o polinômio mínimo de a**7 e seus conjugados: a**7, a**14, a**13 e a**11\n",
    "\n",
    "print(\"Lista de polinômios mínimos:\")\n",
    "print(\"ø_0 ==\", polys[0])\n",
    "print(\"ø_1 ==\", polys[1]*polys[2]*polys[4]*polys[8])\n",
    "print(\"ø_3 ==\", polys[3]*polys[6]*polys[12]*polys[9])\n",
    "print(\"ø_5 ==\", polys[5]*polys[10])\n",
    "print(\"ø_7 ==\", polys[7]*polys[14]*polys[13]*polys[11])"
   ]
  }
 ],
 "metadata": {
  "kernelspec": {
   "display_name": "venv",
   "language": "python",
   "name": "python3"
  },
  "language_info": {
   "codemirror_mode": {
    "name": "ipython",
    "version": 3
   },
   "file_extension": ".py",
   "mimetype": "text/x-python",
   "name": "python",
   "nbconvert_exporter": "python",
   "pygments_lexer": "ipython3",
   "version": "3.11.5"
  }
 },
 "nbformat": 4,
 "nbformat_minor": 2
}
